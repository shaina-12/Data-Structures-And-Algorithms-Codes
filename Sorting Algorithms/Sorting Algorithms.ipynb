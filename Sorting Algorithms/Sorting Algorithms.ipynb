{
 "cells": [
  {
   "cell_type": "markdown",
   "id": "aa17cb42",
   "metadata": {},
   "source": [
    "# Experiment - Sorting Algorithm Analysis"
   ]
  },
  {
   "cell_type": "markdown",
   "id": "6f7200a0",
   "metadata": {},
   "source": [
    "### Aim - To analyse the time complexity of Bublr Sort, Merge Sort, Quick Sort and Insertion Sort algorithms using emprical method and plotting the graph for the same"
   ]
  },
  {
   "cell_type": "markdown",
   "id": "12a66bfa",
   "metadata": {},
   "source": [
    "#### Date - 19th August 2021"
   ]
  },
  {
   "cell_type": "markdown",
   "id": "6451a3b4",
   "metadata": {},
   "source": [
    "#### Software Used - Codeblocks and Anaconda Jupyter Notebook"
   ]
  },
  {
   "cell_type": "markdown",
   "id": "ab7cbe56",
   "metadata": {},
   "source": [
    "#### Procedure - This experiment is performed as follows:\n",
    "#### 1) Implementing all the algorithms using random integers from 1 to 100 and measuring the time taken for all the sorting algorithms implemented in experiment 1, 2, 3 and 4 using clock function in C++ for the entries between the size 10 - 100000 in the.csv file.\n",
    "#### 2) Plotting the graph using numpy, pandas and matplotlib library in Python."
   ]
  },
  {
   "cell_type": "markdown",
   "id": "b48733d3",
   "metadata": {},
   "source": [
    "#### Code and Output - "
   ]
  },
  {
   "cell_type": "code",
   "execution_count": 51,
   "id": "281a761b",
   "metadata": {},
   "outputs": [],
   "source": [
    "import numpy as np\n",
    "import pandas as pd\n",
    "import matplotlib.pyplot as plt\n",
    "%matplotlib inline"
   ]
  },
  {
   "cell_type": "code",
   "execution_count": 52,
   "id": "4fb10d88",
   "metadata": {},
   "outputs": [],
   "source": [
    "algo = pd.read_csv('C://Users//hp//Desktop//Shaina//Sorting Algorithms.csv')"
   ]
  },
  {
   "cell_type": "code",
   "execution_count": 53,
   "id": "5ade437a",
   "metadata": {},
   "outputs": [
    {
     "data": {
      "text/html": [
       "<div>\n",
       "<style scoped>\n",
       "    .dataframe tbody tr th:only-of-type {\n",
       "        vertical-align: middle;\n",
       "    }\n",
       "\n",
       "    .dataframe tbody tr th {\n",
       "        vertical-align: top;\n",
       "    }\n",
       "\n",
       "    .dataframe thead th {\n",
       "        text-align: right;\n",
       "    }\n",
       "</style>\n",
       "<table border=\"1\" class=\"dataframe\">\n",
       "  <thead>\n",
       "    <tr style=\"text-align: right;\">\n",
       "      <th></th>\n",
       "      <th>Entries</th>\n",
       "      <th>Bubble Sort</th>\n",
       "      <th>Insertion Sort</th>\n",
       "      <th>Merge Sort</th>\n",
       "      <th>Quick Sort</th>\n",
       "    </tr>\n",
       "  </thead>\n",
       "  <tbody>\n",
       "    <tr>\n",
       "      <th>0</th>\n",
       "      <td>10</td>\n",
       "      <td>0.000</td>\n",
       "      <td>0.000</td>\n",
       "      <td>0.000</td>\n",
       "      <td>0.001</td>\n",
       "    </tr>\n",
       "    <tr>\n",
       "      <th>1</th>\n",
       "      <td>50</td>\n",
       "      <td>0.000</td>\n",
       "      <td>0.000</td>\n",
       "      <td>0.000</td>\n",
       "      <td>0.001</td>\n",
       "    </tr>\n",
       "    <tr>\n",
       "      <th>2</th>\n",
       "      <td>100</td>\n",
       "      <td>0.000</td>\n",
       "      <td>0.000</td>\n",
       "      <td>0.000</td>\n",
       "      <td>0.001</td>\n",
       "    </tr>\n",
       "    <tr>\n",
       "      <th>3</th>\n",
       "      <td>500</td>\n",
       "      <td>0.001</td>\n",
       "      <td>0.000</td>\n",
       "      <td>0.001</td>\n",
       "      <td>0.001</td>\n",
       "    </tr>\n",
       "    <tr>\n",
       "      <th>4</th>\n",
       "      <td>1000</td>\n",
       "      <td>0.002</td>\n",
       "      <td>0.002</td>\n",
       "      <td>0.005</td>\n",
       "      <td>0.001</td>\n",
       "    </tr>\n",
       "    <tr>\n",
       "      <th>5</th>\n",
       "      <td>5000</td>\n",
       "      <td>0.067</td>\n",
       "      <td>0.024</td>\n",
       "      <td>0.010</td>\n",
       "      <td>0.001</td>\n",
       "    </tr>\n",
       "    <tr>\n",
       "      <th>6</th>\n",
       "      <td>10000</td>\n",
       "      <td>0.294</td>\n",
       "      <td>0.077</td>\n",
       "      <td>0.021</td>\n",
       "      <td>0.003</td>\n",
       "    </tr>\n",
       "    <tr>\n",
       "      <th>7</th>\n",
       "      <td>50000</td>\n",
       "      <td>9.889</td>\n",
       "      <td>1.944</td>\n",
       "      <td>0.088</td>\n",
       "      <td>0.036</td>\n",
       "    </tr>\n",
       "    <tr>\n",
       "      <th>8</th>\n",
       "      <td>100000</td>\n",
       "      <td>37.127</td>\n",
       "      <td>8.261</td>\n",
       "      <td>0.174</td>\n",
       "      <td>0.112</td>\n",
       "    </tr>\n",
       "  </tbody>\n",
       "</table>\n",
       "</div>"
      ],
      "text/plain": [
       "   Entries  Bubble Sort  Insertion Sort  Merge Sort  Quick Sort\n",
       "0       10        0.000           0.000       0.000       0.001\n",
       "1       50        0.000           0.000       0.000       0.001\n",
       "2      100        0.000           0.000       0.000       0.001\n",
       "3      500        0.001           0.000       0.001       0.001\n",
       "4     1000        0.002           0.002       0.005       0.001\n",
       "5     5000        0.067           0.024       0.010       0.001\n",
       "6    10000        0.294           0.077       0.021       0.003\n",
       "7    50000        9.889           1.944       0.088       0.036\n",
       "8   100000       37.127           8.261       0.174       0.112"
      ]
     },
     "execution_count": 53,
     "metadata": {},
     "output_type": "execute_result"
    }
   ],
   "source": [
    "algo"
   ]
  },
  {
   "cell_type": "code",
   "execution_count": 54,
   "id": "7a265030",
   "metadata": {},
   "outputs": [],
   "source": [
    "labels = algo['Entries']"
   ]
  },
  {
   "cell_type": "code",
   "execution_count": 55,
   "id": "b337c3bd",
   "metadata": {},
   "outputs": [],
   "source": [
    "labels = list(np.array(labels))"
   ]
  },
  {
   "cell_type": "code",
   "execution_count": 56,
   "id": "71ab90a7",
   "metadata": {},
   "outputs": [
    {
     "data": {
      "text/plain": [
       "[10, 50, 100, 500, 1000, 5000, 10000, 50000, 100000]"
      ]
     },
     "execution_count": 56,
     "metadata": {},
     "output_type": "execute_result"
    }
   ],
   "source": [
    "labels"
   ]
  },
  {
   "cell_type": "code",
   "execution_count": 60,
   "id": "90b886e2",
   "metadata": {},
   "outputs": [],
   "source": [
    "B_Sort = list(np.array(algo['Bubble Sort']))\n",
    "I_Sort = list(np.array(algo['Insertion Sort']))\n",
    "M_Sort = list(np.array(algo['Merge Sort']))\n",
    "Q_Sort = list(np.array(algo['Quick Sort']))"
   ]
  },
  {
   "cell_type": "code",
   "execution_count": 61,
   "id": "0d18443b",
   "metadata": {},
   "outputs": [
    {
     "data": {
      "text/plain": [
       "<matplotlib.legend.Legend at 0x2323e6e7eb0>"
      ]
     },
     "execution_count": 61,
     "metadata": {},
     "output_type": "execute_result"
    },
    {
     "data": {
      "image/png": "[encoded data removed]",
      "text/plain": [
       "<Figure size 432x288 with 1 Axes>"
      ]
     },
     "metadata": {
      "needs_background": "light"
     },
     "output_type": "display_data"
    }
   ],
   "source": [
    "plt.plot(labels,B_Sort,'--b')\n",
    "plt.plot(labels,I_Sort,'-og')\n",
    "plt.plot(labels,M_Sort,'oy')\n",
    "plt.plot(labels,Q_Sort,'--r')\n",
    "plt.xlabel('Time in Milliseconds')\n",
    "plt.ylabel('Input Size / Number of Elements in Array')\n",
    "plt.title('Sorting Algorithms Comparisons')\n",
    "plt.legend(['Bubble','Insertion','Merge','Quick'])"
   ]
  },
  {
   "cell_type": "markdown",
   "id": "88ff7f7f",
   "metadata": {},
   "source": [
    "#### Results and Conclusion - The analysis of the time complexity of Bublr Sort, Merge Sort, Quick Sort and Insertion Sort algorithms using emprical method and graph plotting has been done sucessfully."
   ]
  }
 ],
 "metadata": {
  "kernelspec": {
   "display_name": "Python 3",
   "language": "python",
   "name": "python3"
  },
  "language_info": {
   "codemirror_mode": {
    "name": "ipython",
    "version": 3
   },
   "file_extension": ".py",
   "mimetype": "text/x-python",
   "name": "python",
   "nbconvert_exporter": "python",
   "pygments_lexer": "ipython3",
   "version": "3.8.8"
  }
 },
 "nbformat": 4,
 "nbformat_minor": 5
}
